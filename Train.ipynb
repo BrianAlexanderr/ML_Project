{
  "cells": [
    {
      "cell_type": "markdown",
      "metadata": {
        "id": "pVjpqmbix1td"
      },
      "source": [
        "# Save the dataset into variable"
      ]
    },
    {
      "cell_type": "code",
      "execution_count": 1,
      "metadata": {
        "colab": {
          "base_uri": "https://localhost:8080/",
          "height": 206
        },
        "id": "TZq-Gmgxxjfr",
        "outputId": "8fcca4f4-4e6b-4bf2-b9c3-34f3d91df000"
      },
      "outputs": [
        {
          "data": {
            "text/html": [
              "<div>\n",
              "<style scoped>\n",
              "    .dataframe tbody tr th:only-of-type {\n",
              "        vertical-align: middle;\n",
              "    }\n",
              "\n",
              "    .dataframe tbody tr th {\n",
              "        vertical-align: top;\n",
              "    }\n",
              "\n",
              "    .dataframe thead th {\n",
              "        text-align: right;\n",
              "    }\n",
              "</style>\n",
              "<table border=\"1\" class=\"dataframe\">\n",
              "  <thead>\n",
              "    <tr style=\"text-align: right;\">\n",
              "      <th></th>\n",
              "      <th>v1</th>\n",
              "      <th>v2</th>\n",
              "      <th>Unnamed: 2</th>\n",
              "      <th>Unnamed: 3</th>\n",
              "      <th>Unnamed: 4</th>\n",
              "    </tr>\n",
              "  </thead>\n",
              "  <tbody>\n",
              "    <tr>\n",
              "      <th>0</th>\n",
              "      <td>ham</td>\n",
              "      <td>Go until jurong point, crazy.. Available only ...</td>\n",
              "      <td>NaN</td>\n",
              "      <td>NaN</td>\n",
              "      <td>NaN</td>\n",
              "    </tr>\n",
              "    <tr>\n",
              "      <th>1</th>\n",
              "      <td>ham</td>\n",
              "      <td>Ok lar... Joking wif u oni...</td>\n",
              "      <td>NaN</td>\n",
              "      <td>NaN</td>\n",
              "      <td>NaN</td>\n",
              "    </tr>\n",
              "    <tr>\n",
              "      <th>2</th>\n",
              "      <td>spam</td>\n",
              "      <td>Free entry in 2 a wkly comp to win FA Cup fina...</td>\n",
              "      <td>NaN</td>\n",
              "      <td>NaN</td>\n",
              "      <td>NaN</td>\n",
              "    </tr>\n",
              "    <tr>\n",
              "      <th>3</th>\n",
              "      <td>ham</td>\n",
              "      <td>U dun say so early hor... U c already then say...</td>\n",
              "      <td>NaN</td>\n",
              "      <td>NaN</td>\n",
              "      <td>NaN</td>\n",
              "    </tr>\n",
              "    <tr>\n",
              "      <th>4</th>\n",
              "      <td>ham</td>\n",
              "      <td>Nah I don't think he goes to usf, he lives aro...</td>\n",
              "      <td>NaN</td>\n",
              "      <td>NaN</td>\n",
              "      <td>NaN</td>\n",
              "    </tr>\n",
              "  </tbody>\n",
              "</table>\n",
              "</div>"
            ],
            "text/plain": [
              "     v1  ... Unnamed: 4\n",
              "0   ham  ...        NaN\n",
              "1   ham  ...        NaN\n",
              "2  spam  ...        NaN\n",
              "3   ham  ...        NaN\n",
              "4   ham  ...        NaN\n",
              "\n",
              "[5 rows x 5 columns]"
            ]
          },
          "execution_count": 1,
          "metadata": {},
          "output_type": "execute_result"
        }
      ],
      "source": [
        "import pandas as pd\n",
        "\n",
        "file = pd.read_csv('spam.csv', encoding='latin1')\n",
        "file.head()"
      ]
    },
    {
      "cell_type": "markdown",
      "metadata": {
        "id": "aEIqgV6bzaH3"
      },
      "source": [
        "# Check wether the dataset contains missing value or not"
      ]
    },
    {
      "cell_type": "code",
      "execution_count": 2,
      "metadata": {
        "colab": {
          "base_uri": "https://localhost:8080/",
          "height": 147
        },
        "id": "18t28CYwzgRy",
        "outputId": "edf0b4e8-e154-47e7-b00b-1c1a3abaa65a"
      },
      "outputs": [
        {
          "data": {
            "text/plain": [
              "v1               0\n",
              "v2               0\n",
              "Unnamed: 2    5522\n",
              "Unnamed: 3    5560\n",
              "Unnamed: 4    5566\n",
              "dtype: int64"
            ]
          },
          "execution_count": 2,
          "metadata": {},
          "output_type": "execute_result"
        }
      ],
      "source": [
        "file.isnull().sum()"
      ]
    },
    {
      "cell_type": "markdown",
      "metadata": {},
      "source": [
        "# Retrieve only usefull columns"
      ]
    },
    {
      "cell_type": "code",
      "execution_count": 3,
      "metadata": {},
      "outputs": [],
      "source": [
        "X = file['v2']\n",
        "y = file['v1']"
      ]
    },
    {
      "cell_type": "markdown",
      "metadata": {
        "id": "pQmQpz-Ez2u4"
      },
      "source": [
        "# Data Pre-Processing (Ubah teks menjadi kumpulan kata sederhana yang dapat di pahami komputer) menggunakan tokenization"
      ]
    },
    {
      "cell_type": "code",
      "execution_count": 4,
      "metadata": {
        "colab": {
          "base_uri": "https://localhost:8080/"
        },
        "id": "owlgUV7fzus7",
        "outputId": "cb8640fd-6974-4410-ae01-bbca582c328d"
      },
      "outputs": [
        {
          "name": "stderr",
          "output_type": "stream",
          "text": [
            "[nltk_data] Downloading package stopwords to\n",
            "[nltk_data]     C:\\Users\\LENOVO\\AppData\\Roaming\\nltk_data...\n",
            "[nltk_data]   Package stopwords is already up-to-date!\n"
          ]
        },
        {
          "name": "stdout",
          "output_type": "stream",
          "text": [
            "0       go jurong point crazy available bugis n great ...\n",
            "1                                 ok lar joking wif u oni\n",
            "2       free entry wkly comp win fa cup final tkts st ...\n",
            "3                     u dun say early hor u c already say\n",
            "4                     nah think go usf life around though\n",
            "                              ...                        \n",
            "5567    nd time tried contact u u pound prize claim ea...\n",
            "5568                            b going esplanade fr home\n",
            "5569                                 pity mood suggestion\n",
            "5570    guy bitching acted like interested buying some...\n",
            "5571                                       rofl true name\n",
            "Name: v2, Length: 5572, dtype: object\n"
          ]
        }
      ],
      "source": [
        "import re\n",
        "import nltk\n",
        "from nltk.corpus import stopwords\n",
        "from nltk.stem import PorterStemmer, WordNetLemmatizer\n",
        "\n",
        "nltk.download('stopwords')\n",
        "\n",
        "stemmer = PorterStemmer()\n",
        "lemma = WordNetLemmatizer()\n",
        "stop_words = set(stopwords.words('english'))\n",
        "\n",
        "def preprocess(text):\n",
        "    text = text.lower()  # Ubah ke huruf kecil\n",
        "    text = re.sub(r'\\W', ' ', text)  # Hapus tanda baca\n",
        "    text = re.sub(r'\\s+', ' ', text)  # Hapus spasi berlebih\n",
        "    text = re.sub(r\"[^a-zA-Z]\", \" \", text)\n",
        "    text = ' '.join([lemma.lemmatize(word) for word in text.split() if word not in stop_words])\n",
        "    return text\n",
        "\n",
        "# Terapkan preprocessing ke semua teks\n",
        "X_cleaned = X.apply(preprocess)\n",
        "\n",
        "print(X_cleaned)\n"
      ]
    },
    {
      "cell_type": "markdown",
      "metadata": {
        "id": "QmChRISH17dN"
      },
      "source": [
        "# Ubah text menjadi vektor numerik dengan menggunakan TF-IDF (Term Frequency-Inverse Document Frequency)"
      ]
    },
    {
      "cell_type": "code",
      "execution_count": 5,
      "metadata": {
        "colab": {
          "base_uri": "https://localhost:8080/"
        },
        "id": "QS_t9o-B1z2f",
        "outputId": "dfd12c53-eb74-4295-83c6-eb583b5ad98b"
      },
      "outputs": [
        {
          "name": "stdout",
          "output_type": "stream",
          "text": [
            "Shape of feature matrix: (5572, 5000)\n"
          ]
        }
      ],
      "source": [
        "from sklearn.feature_extraction.text import TfidfVectorizer\n",
        "\n",
        "vectorizer = TfidfVectorizer(max_features=5000)  # Ambil 5000 kata paling umum\n",
        "X_vectorize = vectorizer.fit_transform(X).toarray()\n",
        "\n",
        "print(\"Shape of feature matrix:\", X_vectorize.shape)\n"
      ]
    },
    {
      "cell_type": "markdown",
      "metadata": {
        "id": "ONikNoiU2Un2"
      },
      "source": [
        "# Bagi data menjadi train dan test untuk validasi ketepatan model dalam prediksi"
      ]
    },
    {
      "cell_type": "code",
      "execution_count": 6,
      "metadata": {
        "colab": {
          "base_uri": "https://localhost:8080/"
        },
        "id": "2o7A14v02a8Q",
        "outputId": "455d07c4-d71b-4fec-cfb0-06b3db89ed18"
      },
      "outputs": [
        {
          "name": "stdout",
          "output_type": "stream",
          "text": [
            "Training size: (4457, 5000), Testing size: (1115, 5000)\n"
          ]
        }
      ],
      "source": [
        "from sklearn.model_selection import train_test_split\n",
        "\n",
        "X_train, X_test, y_train, y_test = train_test_split(X_vectorize, y, test_size=0.2, random_state=42)\n",
        "\n",
        "print(f\"Training size: {X_train.shape}, Testing size: {X_test.shape}\")\n"
      ]
    },
    {
      "cell_type": "markdown",
      "metadata": {
        "id": "GGrMr9UU2f75"
      },
      "source": [
        "# Melatih Model dengan Stacking Model"
      ]
    },
    {
      "cell_type": "code",
      "execution_count": 7,
      "metadata": {
        "colab": {
          "base_uri": "https://localhost:8080/"
        },
        "id": "JGGw5tLO2fGd",
        "outputId": "fb4e44da-10ba-4de0-f7c6-9f95d083b31e"
      },
      "outputs": [
        {
          "name": "stdout",
          "output_type": "stream",
          "text": [
            "Accuracy: 0.9874439461883409\n",
            "              precision    recall  f1-score   support\n",
            "\n",
            "         ham       0.99      0.99      0.99       965\n",
            "        spam       0.97      0.94      0.95       150\n",
            "\n",
            "    accuracy                           0.99      1115\n",
            "   macro avg       0.98      0.97      0.97      1115\n",
            "weighted avg       0.99      0.99      0.99      1115\n",
            "\n"
          ]
        }
      ],
      "source": [
        "from sklearn.naive_bayes import GaussianNB\n",
        "from sklearn.ensemble import RandomForestClassifier, StackingClassifier\n",
        "\n",
        "from sklearn.metrics import accuracy_score, classification_report\n",
        "\n",
        "# Buat model Naïve Bayes\n",
        "nb_model = GaussianNB()\n",
        "\n",
        "# Buat model Random Forest\n",
        "rf_model = RandomForestClassifier(n_estimators=100, random_state=42)\n",
        "\n",
        "# Buat model decision\n",
        "model_dec = RandomForestClassifier(n_estimators=100, random_state=42)\n",
        "\n",
        "model = StackingClassifier(\n",
        "    estimators=[('naive_bayes', nb_model), ('random_forest', rf_model)],\n",
        "    final_estimator=model_dec  # Using Random Forest as final decision\n",
        ")\n",
        "\n",
        "model.fit(X_train, y_train)\n",
        "\n",
        "# Prediksi pada data uji\n",
        "y_pred = model.predict(X_test)\n",
        "\n",
        "# Evaluasi model\n",
        "print(\"Accuracy:\", accuracy_score(y_test, y_pred))\n",
        "print(classification_report(y_test, y_pred))\n"
      ]
    },
    {
      "cell_type": "code",
      "execution_count": 8,
      "metadata": {
        "colab": {
          "base_uri": "https://localhost:8080/",
          "height": 564
        },
        "id": "yqsbSkdaNQUa",
        "outputId": "3b2d6b0f-0fd2-432e-f6c5-61a0a0e60111"
      },
      "outputs": [
        {
          "data": {
            "image/png": "[encoded data removed]",
            "text/plain": [
              "<Figure size 800x600 with 2 Axes>"
            ]
          },
          "metadata": {},
          "output_type": "display_data"
        }
      ],
      "source": [
        "import matplotlib.pyplot as plt\n",
        "import seaborn as sns\n",
        "from sklearn.metrics import confusion_matrix\n",
        "\n",
        "plt.figure(figsize=(8, 6))\n",
        "sns.heatmap(confusion_matrix(y_test, y_pred), annot=True, fmt='d', cmap='Blues')\n",
        "plt.title('Confusion Matrix')\n",
        "plt.xlabel('Predicted')\n",
        "plt.ylabel('Actual')\n",
        "plt.show()"
      ]
    },
    {
      "cell_type": "code",
      "execution_count": 11,
      "metadata": {},
      "outputs": [
        {
          "data": {
            "image/png": "[encoded data removed]",
            "text/plain": [
              "<Figure size 640x480 with 1 Axes>"
            ]
          },
          "metadata": {},
          "output_type": "display_data"
        }
      ],
      "source": [
        "from sklearn.metrics import roc_curve, auc\n",
        "\n",
        "y_score = model.predict_proba(X_test)[:, 1]\n",
        "\n",
        "fpr, tpr, _ = roc_curve(y_test, y_score, pos_label='spam')\n",
        "roc_auc = auc(fpr, tpr)\n",
        "\n",
        "# Plot the ROC curve\n",
        "plt.figure()\n",
        "plt.plot(fpr, tpr, color='darkorange', lw=2, label=f'ROC curve (AUC = {roc_auc:.2f})')\n",
        "plt.plot([0, 1], [0, 1], color='navy', lw=2, linestyle='--')  # Random classifier line\n",
        "plt.xlim([0.0, 1.0])\n",
        "plt.ylim([0.0, 1.05])\n",
        "plt.xlabel('False Positive Rate')\n",
        "plt.ylabel('True Positive Rate')\n",
        "plt.title('Receiver Operating Characteristic')\n",
        "plt.legend(loc=\"lower right\")\n",
        "plt.grid(True)\n",
        "plt.show()"
      ]
    },
    {
      "cell_type": "markdown",
      "metadata": {
        "id": "3uqJB7GX8ubF"
      },
      "source": [
        "# Save the model"
      ]
    },
    {
      "cell_type": "code",
      "execution_count": null,
      "metadata": {
        "colab": {
          "base_uri": "https://localhost:8080/"
        },
        "id": "KpVhSNdW8wq7",
        "outputId": "70a83314-e7a1-47ef-9601-df4a4f870c37"
      },
      "outputs": [
        {
          "name": "stdout",
          "output_type": "stream",
          "text": [
            "Model berhasil disimpan!\n"
          ]
        }
      ],
      "source": [
        "import joblib\n",
        "\n",
        "# Simpan model dan vectorizer\n",
        "joblib.dump(model, \"spam_classifier.pkl\")\n",
        "joblib.dump(vectorizer, \"tfidf_vectorizer.pkl\")\n",
        "\n",
        "print(\"Model berhasil disimpan!\")"
      ]
    },
    {
      "cell_type": "markdown",
      "metadata": {
        "id": "dO5drzIj81nw"
      },
      "source": [
        "# Testing / Evaluation"
      ]
    },
    {
      "cell_type": "code",
      "execution_count": null,
      "metadata": {
        "colab": {
          "base_uri": "https://localhost:8080/"
        },
        "id": "ct2DPeiE3N5J",
        "outputId": "5ba2f23a-c13f-4a04-d1b0-83619d79352b"
      },
      "outputs": [
        {
          "name": "stdout",
          "output_type": "stream",
          "text": [
            "spam\n"
          ]
        }
      ],
      "source": [
        "def predict_email(email, model, vectorizer):\n",
        "    email_clean = preprocess(email)\n",
        "    email_vectorized = vectorizer.transform([email_clean]).toarray()\n",
        "    prediction = model.predict(email_vectorized)[0]\n",
        "    return prediction\n",
        "\n",
        "file = open('spam_classifier.pkl', 'rb')\n",
        "model = joblib.load(file)\n",
        "file.close()\n",
        "\n",
        "file=open('tfidf_vectorizer.pkl', 'rb')\n",
        "vectorizer = joblib.load(file)\n",
        "file.close()\n",
        "\n",
        "email_sample = \"get this for free!\"\n",
        "print(predict_email(email_sample, model, vectorizer))  # Harusnya \"Spam\"\n"
      ]
    }
  ],
  "metadata": {
    "colab": {
      "provenance": []
    },
    "kernelspec": {
      "display_name": "base",
      "language": "python",
      "name": "python3"
    },
    "language_info": {
      "codemirror_mode": {
        "name": "ipython",
        "version": 3
      },
      "file_extension": ".py",
      "mimetype": "text/x-python",
      "name": "python",
      "nbconvert_exporter": "python",
      "pygments_lexer": "ipython3",
      "version": "3.12.3"
    }
  },
  "nbformat": 4,
  "nbformat_minor": 0
}
